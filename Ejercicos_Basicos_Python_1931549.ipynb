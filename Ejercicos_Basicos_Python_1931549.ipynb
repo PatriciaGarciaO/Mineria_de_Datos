{
 "cells": [
  {
   "cell_type": "markdown",
   "metadata": {},
   "source": [
    "## Ejercicio 1:\n",
    "Realiza una variable con tu matricula y realiza una secuencia de imprimir con tu nombre y tu matricula concatenados"
   ]
  },
  {
   "cell_type": "code",
   "execution_count": 6,
   "metadata": {},
   "outputs": [
    {
     "name": "stdout",
     "output_type": "stream",
     "text": [
      "Patricia 1931549\n"
     ]
    }
   ],
   "source": [
    "m= 1931549\n",
    "print(\"Patricia \"+ str(m))"
   ]
  },
  {
   "cell_type": "markdown",
   "metadata": {},
   "source": [
    "## Ejericio 2:\n",
    "Crea un input que pida dos numeros y crea una calculadora con los operadores basicos \n"
   ]
  },
  {
   "cell_type": "code",
   "execution_count": 16,
   "metadata": {},
   "outputs": [
    {
     "name": "stdout",
     "output_type": "stream",
     "text": [
      "Ingresa el primer numero4\n",
      "Ingresa el segundo numero2\n",
      "Suma:  6\n",
      "Resta:  2\n",
      "Multiplicación:  8\n",
      "Division:  2.0\n",
      "Exponente:  16\n"
     ]
    }
   ],
   "source": [
    "n1= int(input(\"Ingresa el primer numero\"))\n",
    "n2= int(input(\"Ingresa el segundo numero\"))\n",
    "\n",
    "print(\"Suma: \", n1+n2)\n",
    "print(\"Resta: \", n1-n2)\n",
    "print(\"Multiplicación: \", n1*n2)\n",
    "print(\"Division: \", n1/n2)\n",
    "print(\"Exponente: \", n1**n2)"
   ]
  },
  {
   "cell_type": "markdown",
   "metadata": {},
   "source": [
    "## Ejercicio 3:\n",
    "Con loop while o for, realiza una lista de 10 numeros multiplos de 3, y después realiza una función de loop que sume todos los números dentro del arreglo.\n"
   ]
  },
  {
   "cell_type": "code",
   "execution_count": 17,
   "metadata": {},
   "outputs": [
    {
     "name": "stdout",
     "output_type": "stream",
     "text": [
      "3 3\n",
      "6 9\n",
      "9 15\n",
      "12 21\n",
      "15 27\n",
      "18 33\n",
      "21 39\n",
      "24 45\n",
      "27 51\n",
      "30 57\n"
     ]
    }
   ],
   "source": [
    "i=3\n",
    "c=0\n",
    "while i<=30:\n",
    "    print(i,i+c)\n",
    "    c=i\n",
    "    i=i+3"
   ]
  },
  {
   "cell_type": "markdown",
   "metadata": {},
   "source": [
    "## Ejercicio 4:\n",
    "Con una función de if else, revisar si un número es par o es impar.\n",
    "Con una función de if else, revisar si un número es primo o no."
   ]
  },
  {
   "cell_type": "code",
   "execution_count": 49,
   "metadata": {},
   "outputs": [
    {
     "name": "stdout",
     "output_type": "stream",
     "text": [
      "Introduzca un numero:3\n",
      "El numero es impar\n",
      "El numero es primo\n"
     ]
    }
   ],
   "source": [
    "n= int(input(\"Introduzca un numero:\"))\n",
    "\n",
    "r=n%2\n",
    "if r == 0:\n",
    "    print (\"El numero es par\")\n",
    "else:\n",
    "    print (\"El numero es impar\")\n",
    "    \n",
    "\n",
    "c=0\n",
    "for i in range(1, n+1):\n",
    "    if(n%i)==0:\n",
    "        c= c+1\n",
    "if c==2:\n",
    "    print(\"El numero es primo\")\n",
    "else:\n",
    "    print(\"El numero no es primo\")\n",
    "\n",
    "        \n",
    "     \n",
    "            \n",
    "        \n",
    "        \n",
    "               \n",
    "       \n",
    "                    \n",
    "            \n",
    "            \n",
    "    \n",
    "\n",
    "    \n",
    "    \n",
    "\n",
    "    "
   ]
  },
  {
   "cell_type": "markdown",
   "metadata": {},
   "source": [
    "## Ejercicio 5:\n",
    "Utilizando diferentes clases en python, crea una calculadora con los operadores básicos de suma, resta, multiplicación, división, y exponente."
   ]
  },
  {
   "cell_type": "code",
   "execution_count": 54,
   "metadata": {},
   "outputs": [
    {
     "name": "stdout",
     "output_type": "stream",
     "text": [
      "\n",
      "Introduzca primer numero:2\n",
      "Introduzca segundo numero: 3\n",
      "1.Suma 2.Resta 3.Multiplicacion 4.Division 5.Salir\n",
      "Seleccione una opcion:3\n",
      "Resultado:  6\n",
      "\n",
      "Introduzca primer numero:2\n",
      "Introduzca segundo numero: 2\n",
      "1.Suma 2.Resta 3.Multiplicacion 4.Division 5.Salir\n",
      "Seleccione una opcion:5\n",
      "Adios\n"
     ]
    }
   ],
   "source": [
    "def suma(x,y):\n",
    "    return x+by\n",
    "def resta(x,y):\n",
    "    return x-y\n",
    "def mult(x,y):\n",
    "    return x*y\n",
    "def divi(x,y):\n",
    "    return x/y\n",
    "s=0\n",
    "while s != 1:\n",
    "    input()\n",
    "    x = int(input(\"Introduzca primer numero:\" ))\n",
    "    y = int(input(\"Introduzca segundo numero: \"))\n",
    "    print(\"1.Suma 2.Resta 3.Multiplicacion 4.Division 5.Salir\")\n",
    "    op = int(input(\"Seleccione una opcion:\" ))\n",
    "    if op==1:\n",
    "         print(\"Resultado: \",suma(x,y))\n",
    "    elif op==2:\n",
    "        print(\"Resultado: \",resta(x,y))\n",
    "    elif op==3:\n",
    "        print(\"Resultado: \",mult(x,y))\n",
    "    elif op==4:\n",
    "        print(\"Resultado: \",divi(x,y))\n",
    "    elif op==5:\n",
    "        print(\"Adios\")\n",
    "        s=1\n",
    "    else:\n",
    "        print(\"Opcion no valida\")"
   ]
  },
  {
   "cell_type": "markdown",
   "metadata": {},
   "source": [
    "# Ejercicios con estructuras básicas de python.\n",
    "## Tuplas\n",
    "\n",
    "    * Crear una variable flotante, integer, boleana y compleja e imprimir el tipo de variable que es.\n",
    "    * Crear una tupla con valores enteros imprimir el primer y ultimo valor.\n",
    "    * Añadir 3 valores de string a la tupla.\n",
    "    * Verificar si una variable existe dentro de la tupla.\n"
   ]
  },
  {
   "cell_type": "code",
   "execution_count": 63,
   "metadata": {},
   "outputs": [
    {
     "name": "stdout",
     "output_type": "stream",
     "text": [
      "<class 'float'> <class 'int'> <class 'bool'> <class 'complex'>\n",
      "1  ,  5\n"
     ]
    }
   ],
   "source": [
    "f=10.25\n",
    "inte=7\n",
    "b=False\n",
    "c=2+5j\n",
    "\n",
    "print(type(f), type(inte), type(b), type(c))\n",
    "\n",
    "a=(1,2,3,4,5)\n",
    "print(a[0],\" , \", a[-1])"
   ]
  },
  {
   "cell_type": "code",
   "execution_count": 64,
   "metadata": {},
   "outputs": [
    {
     "data": {
      "text/plain": [
       "(1, 2, 3, 4, 5, 'hola', 'como', 'estas')"
      ]
     },
     "execution_count": 64,
     "metadata": {},
     "output_type": "execute_result"
    }
   ],
   "source": [
    "a=a+(\"hola\",\"como\",\"estas\")\n",
    "a"
   ]
  },
  {
   "cell_type": "code",
   "execution_count": 65,
   "metadata": {},
   "outputs": [
    {
     "data": {
      "text/plain": [
       "True"
      ]
     },
     "execution_count": 65,
     "metadata": {},
     "output_type": "execute_result"
    }
   ],
   "source": [
    "5 in a\n"
   ]
  },
  {
   "cell_type": "markdown",
   "metadata": {},
   "source": [
    "## Listas\n",
    "    *Crear una lista con 40 elementos aleatorios enteros.\n",
    "    *Con una funcion (def) crear dos listas nuevas a partir de la lista creada por numeros aleatorios, en la cual en una esten los elementos pares, y en la otra los elementos impares.\n",
    "    *Crear dos variables con la longitud de ambas listas nuevas e imprimir las variables.\n",
    "    *Ordenar los elementos de la lista par de mayor a menor, y los de la lista impar de menor a mayor.\n",
    "    *Utilizar al menos cuatro de las funciones de listas en python en la lista original de 40 elementos."
   ]
  },
  {
   "cell_type": "code",
   "execution_count": 66,
   "metadata": {},
   "outputs": [
    {
     "data": {
      "text/plain": [
       "[30,\n",
       " 25,\n",
       " 18,\n",
       " 1,\n",
       " 19,\n",
       " 41,\n",
       " 37,\n",
       " 49,\n",
       " 31,\n",
       " 10,\n",
       " 20,\n",
       " 19,\n",
       " 10,\n",
       " 41,\n",
       " 15,\n",
       " 30,\n",
       " 25,\n",
       " 1,\n",
       " 44,\n",
       " 25,\n",
       " 24,\n",
       " 35,\n",
       " 47,\n",
       " 33,\n",
       " 17,\n",
       " 19,\n",
       " 36,\n",
       " 30,\n",
       " 3,\n",
       " 41,\n",
       " 37,\n",
       " 2,\n",
       " 41,\n",
       " 13,\n",
       " 37,\n",
       " 20,\n",
       " 38,\n",
       " 9,\n",
       " 7,\n",
       " 4]"
      ]
     },
     "execution_count": 66,
     "metadata": {},
     "output_type": "execute_result"
    }
   ],
   "source": [
    "from random import randint\n",
    "l=[randint(1, 50) for i in range(40)]\n",
    "l"
   ]
  },
  {
   "cell_type": "code",
   "execution_count": 72,
   "metadata": {},
   "outputs": [
    {
     "name": "stdout",
     "output_type": "stream",
     "text": [
      "pares= [30, 18, 10, 20, 10, 30, 44, 24, 36, 30, 2, 20, 38, 4]\n",
      "impares= [25, 1, 19, 41, 37, 49, 31, 19, 41, 15, 25, 1, 25, 35, 47, 33, 17, 19, 3, 41, 37, 41, 13, 37, 9, 7]\n"
     ]
    }
   ],
   "source": [
    "def separador(l):\n",
    "    lim=len(l)\n",
    "    pares=[]\n",
    "    impares=[]\n",
    "    for i in range(lim):\n",
    "        if l[i]%2==0:\n",
    "            pares.append(l[i])\n",
    "        else:\n",
    "            impares.append(l[i])\n",
    "    return pares,impares\n",
    "pares, impares=separador(l)\n",
    "print(\"pares=\", pares)\n",
    "print(\"impares=\",impares)"
   ]
  },
  {
   "cell_type": "code",
   "execution_count": 74,
   "metadata": {},
   "outputs": [
    {
     "name": "stdout",
     "output_type": "stream",
     "text": [
      "Longitudes:\n",
      "Pares= 14\n",
      "Impares= 26\n"
     ]
    }
   ],
   "source": [
    "long_pares=len(pares)\n",
    "long_impares=len(impares)\n",
    "print(\"Longitudes:\")\n",
    "print(\"Pares=\", long_pares)\n",
    "print(\"Impares=\",long_impares)"
   ]
  },
  {
   "cell_type": "code",
   "execution_count": 75,
   "metadata": {},
   "outputs": [
    {
     "name": "stdout",
     "output_type": "stream",
     "text": [
      "Pares= [44, 38, 36, 30, 30, 30, 24, 20, 20, 18, 10, 10, 4, 2]\n",
      "Impares= [1, 1, 3, 7, 9, 13, 15, 17, 19, 19, 19, 25, 25, 25, 31, 33, 35, 37, 37, 37, 41, 41, 41, 41, 47, 49]\n"
     ]
    }
   ],
   "source": [
    "pares.sort(reverse=True)\n",
    "impares.sort()\n",
    "print(\"Pares=\", pares)\n",
    "print(\"Impares=\",impares)"
   ]
  },
  {
   "cell_type": "code",
   "execution_count": 77,
   "metadata": {},
   "outputs": [
    {
     "name": "stdout",
     "output_type": "stream",
     "text": [
      "[25, 36, 2, 37, 41]\n",
      "[41, 37, 2, 36, 25]\n",
      "[41, 'Patricia', 37, 2, 36, 25]\n",
      "[41, 'Patricia', 37, 2, 36, 25, 52]\n",
      "[41, 'Patricia', 2, 36, 25, 52]\n"
     ]
    }
   ],
   "source": [
    "import random as rd\n",
    "l_ej=rd.sample(l,5)\n",
    "print(l_ej)\n",
    "\n",
    "l_ej.reverse()\n",
    "print(l_ej)\n",
    "\n",
    "\n",
    "l_ej.insert(1, \"Patricia\")\n",
    "print(l_ej)\n",
    "\n",
    "\n",
    "l_ej.append(52)\n",
    "print(l_ej)\n",
    "\n",
    "l_ej.pop(2)\n",
    "print(l_ej)\n"
   ]
  },
  {
   "cell_type": "markdown",
   "metadata": {},
   "source": [
    "## Diccionario\n",
    "\n",
    "    *Crear un diccionario de 6 personas que conozcas con su primer nombre y su edad.\n",
    "    *Crear una lista con los valores de la edad y reacomodar la lista de menor a mayor valor.\n",
    "    *Usando el diccionario y un loop, imprimir solo los nombres.\n",
    "    *Añadir dos personas nuevas a tu diccionario, incluyendo edad."
   ]
  },
  {
   "cell_type": "code",
   "execution_count": 78,
   "metadata": {},
   "outputs": [
    {
     "data": {
      "text/plain": [
       "{'Patricia': 21,\n",
       " 'Ivan': 24,\n",
       " 'Jorge': 20,\n",
       " 'Elena': 22,\n",
       " 'Paola': 24,\n",
       " 'Sebastian': 23}"
      ]
     },
     "execution_count": 78,
     "metadata": {},
     "output_type": "execute_result"
    }
   ],
   "source": [
    "dic={\"Patricia\":21, \"Ivan\":24, \"Jorge\":20, \"Elena\":22, \"Paola\":24, \"Sebastian\":23}\n",
    "dic"
   ]
  },
  {
   "cell_type": "code",
   "execution_count": 79,
   "metadata": {},
   "outputs": [
    {
     "name": "stdout",
     "output_type": "stream",
     "text": [
      "[20, 21, 22, 23, 24, 24]\n"
     ]
    }
   ],
   "source": [
    "edad=[i for i in dic.values()]\n",
    "edad.sort()\n",
    "print(edad)"
   ]
  },
  {
   "cell_type": "code",
   "execution_count": 80,
   "metadata": {},
   "outputs": [
    {
     "name": "stdout",
     "output_type": "stream",
     "text": [
      "Patricia\n",
      "Ivan\n",
      "Jorge\n",
      "Elena\n",
      "Paola\n",
      "Sebastian\n"
     ]
    }
   ],
   "source": [
    "for i in dic:\n",
    "    print(i)"
   ]
  },
  {
   "cell_type": "code",
   "execution_count": 81,
   "metadata": {},
   "outputs": [
    {
     "data": {
      "text/plain": [
       "{'Patricia': 21,\n",
       " 'Ivan': 24,\n",
       " 'Jorge': 20,\n",
       " 'Elena': 22,\n",
       " 'Paola': 24,\n",
       " 'Sebastian': 23,\n",
       " 'Fernanda': 21,\n",
       " 'Roberto': 20}"
      ]
     },
     "execution_count": 81,
     "metadata": {},
     "output_type": "execute_result"
    }
   ],
   "source": [
    "dic[\"Fernanda\"]=21\n",
    "dic[\"Roberto\"]=20\n",
    "dic"
   ]
  },
  {
   "cell_type": "markdown",
   "metadata": {},
   "source": [
    "## Sets\n",
    "    *Crea un set con 100 numeros aleatorios enteros del 1 al 25.\n",
    "    *Comprueba la longitud de tu set.\n",
    "    *Crea una lista de 5 numeros aleatorios del 1 al 10 y comprueba si cada valor aparece en el set inicial."
   ]
  },
  {
   "cell_type": "code",
   "execution_count": 88,
   "metadata": {},
   "outputs": [
    {
     "data": {
      "text/plain": [
       "[22,\n",
       " 21,\n",
       " 13,\n",
       " 18,\n",
       " 24,\n",
       " 12,\n",
       " 5,\n",
       " 10,\n",
       " 12,\n",
       " 10,\n",
       " 5,\n",
       " 6,\n",
       " 10,\n",
       " 12,\n",
       " 18,\n",
       " 17,\n",
       " 10,\n",
       " 20,\n",
       " 17,\n",
       " 11,\n",
       " 2,\n",
       " 6,\n",
       " 24,\n",
       " 21,\n",
       " 15,\n",
       " 13,\n",
       " 10,\n",
       " 5,\n",
       " 9,\n",
       " 17,\n",
       " 9,\n",
       " 20,\n",
       " 12,\n",
       " 13,\n",
       " 15,\n",
       " 20,\n",
       " 21,\n",
       " 24,\n",
       " 11,\n",
       " 10,\n",
       " 23,\n",
       " 9,\n",
       " 20,\n",
       " 10,\n",
       " 8,\n",
       " 18,\n",
       " 16,\n",
       " 23,\n",
       " 20,\n",
       " 8,\n",
       " 24,\n",
       " 8,\n",
       " 7,\n",
       " 12,\n",
       " 21,\n",
       " 11,\n",
       " 11,\n",
       " 18,\n",
       " 19,\n",
       " 16,\n",
       " 5,\n",
       " 5,\n",
       " 10,\n",
       " 1,\n",
       " 8,\n",
       " 8,\n",
       " 13,\n",
       " 12,\n",
       " 25,\n",
       " 19,\n",
       " 17,\n",
       " 25,\n",
       " 15,\n",
       " 4,\n",
       " 21,\n",
       " 23,\n",
       " 22,\n",
       " 16,\n",
       " 10,\n",
       " 22,\n",
       " 3,\n",
       " 6,\n",
       " 4,\n",
       " 11,\n",
       " 19,\n",
       " 5,\n",
       " 6,\n",
       " 14,\n",
       " 21,\n",
       " 10,\n",
       " 11,\n",
       " 15,\n",
       " 19,\n",
       " 15,\n",
       " 22,\n",
       " 10,\n",
       " 25,\n",
       " 12,\n",
       " 11,\n",
       " 19]"
      ]
     },
     "execution_count": 88,
     "metadata": {},
     "output_type": "execute_result"
    }
   ],
   "source": [
    "set1 =[randint(1, 25) for i in range(100)]\n",
    "set1"
   ]
  },
  {
   "cell_type": "code",
   "execution_count": 90,
   "metadata": {},
   "outputs": [
    {
     "name": "stdout",
     "output_type": "stream",
     "text": [
      "100\n"
     ]
    }
   ],
   "source": [
    "print(len(set1))"
   ]
  },
  {
   "cell_type": "code",
   "execution_count": 93,
   "metadata": {},
   "outputs": [
    {
     "name": "stdout",
     "output_type": "stream",
     "text": [
      "[4, 2, 9, 3, 7]\n",
      "El numero  4 aparece en el set inicial\n",
      "El numero  2 aparece en el set inicial\n",
      "El numero  9 aparece en el set inicial\n",
      "El numero  3 aparece en el set inicial\n",
      "El numero  7 aparece en el set inicial\n"
     ]
    }
   ],
   "source": [
    "setnew=[randint(1, 10) for i in range(5)]\n",
    "print(setnew)\n",
    "for i in range(5):\n",
    "    if setnew[i] in set1:\n",
    "        print(\"El numero \", setnew[i],\"aparece en el set inicial\")\n",
    "    else:\n",
    "        print(\"El numero \", setnew[i],\"no aparece en el set inicial\")"
   ]
  }
 ],
 "metadata": {
  "kernelspec": {
   "display_name": "Python 3",
   "language": "python",
   "name": "python3"
  },
  "language_info": {
   "codemirror_mode": {
    "name": "ipython",
    "version": 3
   },
   "file_extension": ".py",
   "mimetype": "text/x-python",
   "name": "python",
   "nbconvert_exporter": "python",
   "pygments_lexer": "ipython3",
   "version": "3.8.3"
  }
 },
 "nbformat": 4,
 "nbformat_minor": 4
}
