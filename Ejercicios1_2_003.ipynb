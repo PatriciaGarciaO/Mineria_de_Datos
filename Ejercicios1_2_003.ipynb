{
 "cells": [
  {
   "cell_type": "markdown",
   "metadata": {},
   "source": [
    "                                                    Ejercicios l"
   ]
  },
  {
   "cell_type": "markdown",
   "metadata": {},
   "source": [
    "                                             Ejercicio regresión lineal"
   ]
  },
  {
   "cell_type": "markdown",
   "metadata": {},
   "source": [
    "Declaración de variables"
   ]
  },
  {
   "cell_type": "code",
   "execution_count": 33,
   "metadata": {},
   "outputs": [],
   "source": [
    "peso = [74.11,71.73,69.88,67.25,68.78,68.34,67.01,63.45,71.19,67.19,65.80,64.30,67.97,72.18,65.27,66.09,67.51,70.10,68.25,67.89,68.14,69.08,72.80,67.42,68.49,68.61,74.03,71.52,69.18]\n",
    "\n",
    "altura = [162,212,220,206,152,183,167,175,156,186,183,163,163,172,194,168,161,164,188,187,162,192,184,206,175,154,187,212,195,205]"
   ]
  },
  {
   "cell_type": "markdown",
   "metadata": {},
   "source": [
    "Librerias utilizadas"
   ]
  },
  {
   "cell_type": "code",
   "execution_count": 32,
   "metadata": {},
   "outputs": [],
   "source": [
    "import numpy as np\n",
    "import matplotlib.pyplot as plt"
   ]
  },
  {
   "cell_type": "markdown",
   "metadata": {},
   "source": [
    "Convertir la lista de valores en vectores"
   ]
  },
  {
   "cell_type": "code",
   "execution_count": 44,
   "metadata": {},
   "outputs": [],
   "source": [
    "x = np.array(peso)\n",
    "y = np. array(altura)"
   ]
  },
  {
   "cell_type": "markdown",
   "metadata": {},
   "source": [
    "Variables auxiliares a utilizar"
   ]
  },
  {
   "cell_type": "code",
   "execution_count": 87,
   "metadata": {},
   "outputs": [],
   "source": [
    "sumx = sum(x)\n",
    "sumy = sum(y)\n",
    "sumxy = sum(x*y)\n",
    "sumx2 = sum(x*x)\n",
    "sumy2 = sum(y*y)\n",
    "n = len(x)\n",
    "promx = sumx/n\n",
    "promy = sumy/n"
   ]
  },
  {
   "cell_type": "markdown",
   "metadata": {},
   "source": [
    "Cálculo de ecuación"
   ]
  },
  {
   "cell_type": "code",
   "execution_count": 59,
   "metadata": {},
   "outputs": [],
   "source": [
    "m = (sumx*sumy - n*sum(x*y))/(sumx*sumx - n*sumx2)\n",
    "b = promy - m*promx"
   ]
  },
  {
   "cell_type": "markdown",
   "metadata": {},
   "source": [
    "Coeficiente de determinación"
   ]
  },
  {
   "cell_type": "code",
   "execution_count": 85,
   "metadata": {},
   "outputs": [
    {
     "name": "stdout",
     "output_type": "stream",
     "text": [
      "R2 = 63.14262963192891 %\n"
     ]
    }
   ],
   "source": [
    "sigmax = np.sqrt(sumx2/n - promx**2)\n",
    "sigmay = np.sqrt(sumy2/n - promy**2)\n",
    "sigmaxy = sumxy/n - promx*promy\n",
    "r = (sigmaxy/(sigmax*sigmay))**2\n",
    "\n",
    "print (\"R2 =\",r*100,\"%\")"
   ]
  },
  {
   "cell_type": "markdown",
   "metadata": {},
   "source": [
    "Gráfico"
   ]
  },
  {
   "cell_type": "code",
   "execution_count": 99,
   "metadata": {},
   "outputs": [
    {
     "data": {
      "image/png": "[encoded data removed]",
      "text/plain": [
       "<Figure size 432x288 with 1 Axes>"
      ]
     },
     "metadata": {
      "needs_background": "light"
     },
     "output_type": "display_data"
    }
   ],
   "source": [
    "plt.plot(x, y, 'o' , label = 'Datos')\n",
    "plt.plot(x, m*x + b, label = 'Ajuste')\n",
    "plt.xlabel('Peso')\n",
    "plt.ylabel('Altura')\n",
    "plt.title('Regresión lineal')\n",
    "plt.grid()\n",
    "plt.legend()\n",
    "plt.show()"
   ]
  },
  {
   "cell_type": "markdown",
   "metadata": {},
   "source": [
    "------"
   ]
  },
  {
   "cell_type": "markdown",
   "metadata": {},
   "source": [
    "---"
   ]
  },
  {
   "cell_type": "markdown",
   "metadata": {},
   "source": [
    "                                            Ejercicio regla de asociación"
   ]
  },
  {
   "cell_type": "markdown",
   "metadata": {},
   "source": [
    "Libreriasa a utilizar"
   ]
  },
  {
   "cell_type": "code",
   "execution_count": 217,
   "metadata": {},
   "outputs": [],
   "source": [
    "import numpy as np\n",
    "import matplotlib.pyplot as plt"
   ]
  },
  {
   "cell_type": "markdown",
   "metadata": {},
   "source": [
    "Declaración de variables"
   ]
  },
  {
   "cell_type": "markdown",
   "metadata": {},
   "source": [
    "Por comodidad haremos:\n",
    "    A = 1,\n",
    "    B = 2,\n",
    "    C = 3,\n",
    "    D = 4,\n",
    "    E = 5"
   ]
  },
  {
   "cell_type": "code",
   "execution_count": 233,
   "metadata": {},
   "outputs": [
    {
     "data": {
      "text/plain": [
       "array([2, 5])"
      ]
     },
     "execution_count": 233,
     "metadata": {},
     "output_type": "execute_result"
    }
   ],
   "source": [
    "T1 = np.array([1,2,3,5])\n",
    "T2 = np.array([2,5])\n",
    "T3 = np.array([3,4,5])\n",
    "T4 = np.array([1,3,4])\n",
    "T5 = np.array([1,3,5])\n",
    "arreglo = np.array([T1,T2,T3,T4,T5])\n",
    "umbral = 0.5\n",
    "lista = np.array([0,0,0,0,0])\n",
    "lista2= np.array([0,0,0,0])\n",
    "lista3=np.array([0])\n",
    "arreglo[1]"
   ]
  },
  {
   "cell_type": "code",
   "execution_count": 234,
   "metadata": {},
   "outputs": [
    {
     "data": {
      "text/plain": [
       "3"
      ]
     },
     "execution_count": 234,
     "metadata": {},
     "output_type": "execute_result"
    }
   ],
   "source": [
    "sum1 = 0\n",
    "sum2 = 0\n",
    "sum3 = 0\n",
    "sum4 = 0\n",
    "sum5 = 0\n",
    "for i in [0,1,2,3,4]:\n",
    "    for j in range(len(arreglo[i])):\n",
    "        if arreglo[i][j] == 1:\n",
    "            sum1=sum1 + 1\n",
    "        if arreglo[i][j] == 2:\n",
    "            sum2 = sum2 + 1\n",
    "        if arreglo[i][j] == 3:\n",
    "            sum3 = sum3 + 1\n",
    "        if arreglo[i][j] == 4:\n",
    "            sum4 = sum4 + 1\n",
    "        if arreglo[i][j] == 5:\n",
    "            sum5 = sum5 + 1\n",
    "sum1"
   ]
  },
  {
   "cell_type": "code",
   "execution_count": 235,
   "metadata": {},
   "outputs": [
    {
     "data": {
      "text/plain": [
       "array([3, 2, 4, 2, 4])"
      ]
     },
     "execution_count": 235,
     "metadata": {},
     "output_type": "execute_result"
    }
   ],
   "source": [
    "sumas1 = np.array([sum1,sum2,sum3,sum4,sum5])\n",
    "sumas1"
   ]
  },
  {
   "cell_type": "code",
   "execution_count": 236,
   "metadata": {},
   "outputs": [
    {
     "data": {
      "text/plain": [
       "(array([1, 0, 3, 0, 5]), 3)"
      ]
     },
     "execution_count": 236,
     "metadata": {},
     "output_type": "execute_result"
    }
   ],
   "source": [
    "aux = 0\n",
    "for k in range(len(sumas1)):\n",
    "    if sumas1[k]/5 > umbral:\n",
    "        lista[k] = k + 1\n",
    "        aux = aux + 1\n",
    "lista,aux"
   ]
  },
  {
   "cell_type": "markdown",
   "metadata": {},
   "source": [
    "Al llegar a este punto el 1 representa A, el 3 representa C y el 5 representa E"
   ]
  },
  {
   "cell_type": "code",
   "execution_count": 237,
   "metadata": {},
   "outputs": [],
   "source": [
    "lista1 = np.array([1,3,5])"
   ]
  },
  {
   "cell_type": "code",
   "execution_count": 238,
   "metadata": {},
   "outputs": [
    {
     "name": "stdout",
     "output_type": "stream",
     "text": [
      "(1, 3)\n",
      "(1, 5)\n",
      "(3, 5)\n"
     ]
    }
   ],
   "source": [
    "from itertools import combinations\n",
    "for c in combinations(lista1, 2):\n",
    "    print(c)"
   ]
  },
  {
   "cell_type": "code",
   "execution_count": 239,
   "metadata": {},
   "outputs": [
    {
     "data": {
      "text/plain": [
       "3"
      ]
     },
     "execution_count": 239,
     "metadata": {},
     "output_type": "execute_result"
    }
   ],
   "source": [
    "sum13 = 0\n",
    "sum15 = 0\n",
    "sum35 = 0\n",
    "for i in [0,1,2,3,4]:\n",
    "    for j in range(len(arreglo[i])):\n",
    "        if arreglo[i][j] == 1:\n",
    "            for k in range(len(arreglo[i])):\n",
    "                if arreglo[i][k] == 3:\n",
    "                    sum13 = sum13 + 1\n",
    "        if arreglo[i][j] == 1:\n",
    "            for k in range(len(arreglo[i])):\n",
    "                if arreglo[i][k] == 5:\n",
    "                    sum15 = sum15 + 1\n",
    "        if arreglo[i][j] == 3:\n",
    "            for k in range(len(arreglo[i])):\n",
    "                if arreglo[i][k] == 5:\n",
    "                    sum35 = sum35 + 1\n",
    "sum35"
   ]
  },
  {
   "cell_type": "code",
   "execution_count": 240,
   "metadata": {},
   "outputs": [
    {
     "data": {
      "text/plain": [
       "array([3, 2, 3])"
      ]
     },
     "execution_count": 240,
     "metadata": {},
     "output_type": "execute_result"
    }
   ],
   "source": [
    "sumas2 = np.array([sum13,sum15,sum35])\n",
    "sumas2"
   ]
  },
  {
   "cell_type": "code",
   "execution_count": 241,
   "metadata": {},
   "outputs": [
    {
     "data": {
      "text/plain": [
       "(array([1, 0, 3, 0]), 2)"
      ]
     },
     "execution_count": 241,
     "metadata": {},
     "output_type": "execute_result"
    }
   ],
   "source": [
    "aux = 0\n",
    "for k in range(len(sumas2)):\n",
    "    if sumas2[k]/5 > umbral:\n",
    "        lista2[k] = k + 1\n",
    "        aux = aux + 1\n",
    "lista2,aux"
   ]
  },
  {
   "cell_type": "markdown",
   "metadata": {},
   "source": [
    "Al llegar a este punto el 1 representa AC y el 3 representa CE"
   ]
  },
  {
   "cell_type": "code",
   "execution_count": 227,
   "metadata": {},
   "outputs": [
    {
     "data": {
      "text/plain": [
       "2"
      ]
     },
     "execution_count": 227,
     "metadata": {},
     "output_type": "execute_result"
    }
   ],
   "source": [
    "sum135 = 0\n",
    "for i in [0,1,2,3,4]:\n",
    "    for j in range(len(arreglo[i])):\n",
    "        if arreglo[i][j] == 1:\n",
    "            for k in range(len(arreglo[i])):\n",
    "                if arreglo[i][k] == 3:\n",
    "                    for l in range(len(arreglo[i])):\n",
    "                        if arreglo[i][l] == 5:\n",
    "                            sum135 = sum135 + 1\n",
    "sum135"
   ]
  },
  {
   "cell_type": "code",
   "execution_count": 228,
   "metadata": {},
   "outputs": [
    {
     "data": {
      "text/plain": [
       "array([2])"
      ]
     },
     "execution_count": 228,
     "metadata": {},
     "output_type": "execute_result"
    }
   ],
   "source": [
    "sumas3 = np.array([sum135])\n",
    "sumas3"
   ]
  },
  {
   "cell_type": "code",
   "execution_count": 229,
   "metadata": {},
   "outputs": [
    {
     "data": {
      "text/plain": [
       "(array([0, 0]), 0)"
      ]
     },
     "execution_count": 229,
     "metadata": {},
     "output_type": "execute_result"
    }
   ],
   "source": [
    "aux = 0\n",
    "for k in range(len(sumas3)):\n",
    "    if sumas3[k]/5 > umbral:\n",
    "        lista3[k] = k + 1\n",
    "        aux = aux + 1\n",
    "lista3,aux"
   ]
  },
  {
   "cell_type": "markdown",
   "metadata": {},
   "source": [
    "Como nuestra variable aux toma el valor de 0 ya no se hacen mas iteraciones"
   ]
  },
  {
   "cell_type": "code",
   "execution_count": 247,
   "metadata": {},
   "outputs": [
    {
     "name": "stdout",
     "output_type": "stream",
     "text": [
      "La lista de relaciones que superan el umbral de 0.5 son:\n",
      "{A}\n",
      "{C}\n",
      "{E}\n",
      "{A,C}\n",
      "{C,E}\n",
      "El valor maximo de k es 2\n"
     ]
    }
   ],
   "source": [
    "print('La lista de relaciones que superan el umbral de 0.5 son:')\n",
    "for i in range(3):\n",
    "    if lista1[i] == 1:\n",
    "        print('{A}')\n",
    "    if lista1[i] == 3:\n",
    "        print('{C}')\n",
    "    if lista1[i] == 5:\n",
    "        print('{E}')\n",
    "for i in range(2):\n",
    "    if lista2[i] == 1:\n",
    "        print('{A,C}')\n",
    "    if lista1[i] == 3:\n",
    "        print('{C,E}')\n",
    "print('El valor maximo de k es', aux)"
   ]
  },
  {
   "cell_type": "code",
   "execution_count": null,
   "metadata": {},
   "outputs": [],
   "source": []
  }
 ],
 "metadata": {
  "kernelspec": {
   "display_name": "Python 3",
   "language": "python",
   "name": "python3"
  },
  "language_info": {
   "codemirror_mode": {
    "name": "ipython",
    "version": 3
   },
   "file_extension": ".py",
   "mimetype": "text/x-python",
   "name": "python",
   "nbconvert_exporter": "python",
   "pygments_lexer": "ipython3",
   "version": "3.8.3"
  }
 },
 "nbformat": 4,
 "nbformat_minor": 4
}
